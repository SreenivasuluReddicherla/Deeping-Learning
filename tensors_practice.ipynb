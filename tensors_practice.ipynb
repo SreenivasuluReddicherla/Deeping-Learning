{
 "cells": [
  {
   "cell_type": "markdown",
   "id": "bfbff231",
   "metadata": {},
   "source": [
    "# Tensor"
   ]
  },
  {
   "cell_type": "raw",
   "id": "b19a25c3",
   "metadata": {},
   "source": [
    "Tensors are a specialized data structure that are very similar to arrays and matrices. In PyTorch, we use tensors to encode the inputs and outputs of a model, as well as the model’s parameters."
   ]
  },
  {
   "cell_type": "code",
   "execution_count": 20,
   "id": "c2c919b6",
   "metadata": {},
   "outputs": [],
   "source": [
    "# importing modules\n",
    "import torch\n",
    "import numpy as np"
   ]
  },
  {
   "cell_type": "raw",
   "id": "c7ac3628",
   "metadata": {},
   "source": [
    "Initialization of tensor \n",
    "Tensor can be initialiaze in 3 different ways \n",
    "    1 . Directly from the data\n",
    "    2 . From numpy array\n",
    "    3 . From another tensor"
   ]
  },
  {
   "cell_type": "markdown",
   "id": "e3cb530f",
   "metadata": {},
   "source": [
    "## 1 . Directly from the data"
   ]
  },
  {
   "cell_type": "code",
   "execution_count": 2,
   "id": "b22bd61b",
   "metadata": {},
   "outputs": [
    {
     "name": "stdout",
     "output_type": "stream",
     "text": [
      "tensor([[1, 2],\n",
      "        [3, 4]])\n",
      "<class 'list'>\n",
      "<class 'torch.Tensor'>\n"
     ]
    }
   ],
   "source": [
    "data = [[1,2],[3,4]]\n",
    "x_data = torch.tensor(data)\n",
    "print(x_data)\n",
    "print(type(data))\n",
    "print(type(x_data))\n"
   ]
  },
  {
   "cell_type": "markdown",
   "id": "b362ac6f",
   "metadata": {},
   "source": [
    "## 2 . From numpy array"
   ]
  },
  {
   "cell_type": "code",
   "execution_count": 5,
   "id": "45b52e92",
   "metadata": {},
   "outputs": [
    {
     "name": "stdout",
     "output_type": "stream",
     "text": [
      "[[5, 6], [7, 8]]\n",
      "<class 'list'>\n",
      "[[5 6]\n",
      " [7 8]]\n",
      "<class 'numpy.ndarray'>\n",
      "tensor([[5, 6],\n",
      "        [7, 8]], dtype=torch.int32)\n",
      "<class 'torch.Tensor'>\n"
     ]
    }
   ],
   "source": [
    "data1 = [[5,6],[7,8]]\n",
    "print(data1)\n",
    "print(type(data1))\n",
    "np_array = np.array(data1)\n",
    "print(np_array)\n",
    "print(type(np_array))\n",
    "y_data = torch.from_numpy(np_array)\n",
    "print(y_data)\n",
    "print(type(y_data))"
   ]
  },
  {
   "cell_type": "markdown",
   "id": "e56f505d",
   "metadata": {},
   "source": [
    "## 3 . Tensor from another tensor"
   ]
  },
  {
   "cell_type": "code",
   "execution_count": 14,
   "id": "81235ce7",
   "metadata": {},
   "outputs": [
    {
     "name": "stdout",
     "output_type": "stream",
     "text": [
      "tensor([[1, 1],\n",
      "        [1, 1]], dtype=torch.int32)\n",
      "tensor([[0, 0],\n",
      "        [0, 0]], dtype=torch.int32)\n",
      "tensor([[0.4499, 0.7220],\n",
      "        [0.0729, 0.1426]], dtype=torch.float64)\n"
     ]
    }
   ],
   "source": [
    "ones = torch.ones_like(y_data)\n",
    "print(ones)\n",
    "zeros = torch.zeros_like(ones)\n",
    "print(zeros)\n",
    "rn_val = torch.rand_like(zeros,dtype=float)\n",
    "print(rn_val)"
   ]
  },
  {
   "cell_type": "markdown",
   "id": "dabcebfb",
   "metadata": {},
   "source": [
    "## Shape= ( ) is tuple of tensor dimensions\n",
    "## with constant or random tensors for given shape"
   ]
  },
  {
   "cell_type": "code",
   "execution_count": 32,
   "id": "838792ac",
   "metadata": {},
   "outputs": [
    {
     "name": "stdout",
     "output_type": "stream",
     "text": [
      "tensor([[0.7761, 0.4138, 0.7400, 0.7916],\n",
      "        [0.6012, 0.5045, 0.2411, 0.6847],\n",
      "        [0.9032, 0.1752, 0.8685, 0.6322]])\n",
      "tensor([[0.1916, 0.8451, 0.0813, 0.1175],\n",
      "        [0.7424, 0.3283, 0.2717, 0.3233],\n",
      "        [0.4424, 0.1902, 0.7840, 0.6253]])\n",
      "tensor([[1., 1., 1., 1.],\n",
      "        [1., 1., 1., 1.],\n",
      "        [1., 1., 1., 1.]])\n",
      "tensor([[1., 1., 1., 1.],\n",
      "        [1., 1., 1., 1.],\n",
      "        [1., 1., 1., 1.]])\n",
      "tensor([[0., 0., 0., 0.],\n",
      "        [0., 0., 0., 0.],\n",
      "        [0., 0., 0., 0.]])\n",
      "tensor([[1., 1., 1., 1.],\n",
      "        [1., 1., 1., 1.],\n",
      "        [1., 1., 1., 1.]])\n"
     ]
    }
   ],
   "source": [
    "shape=(3,4)\n",
    "shapes = (3,4,)\n",
    "r_ten = torch.rand(shape)\n",
    "print(r_ten)\n",
    "r_tens = torch.rand(shapes)\n",
    "print(r_tens)\n",
    "o_ten = torch.ones(shape)\n",
    "print(o_ten)\n",
    "o_tens = torch.ones(shapes)\n",
    "print(o_tens)\n",
    "z_ten = torch.zeros(shape)\n",
    "print(z_ten)\n",
    "z_tens = torch.ones(shapes)\n",
    "print(o_tens)\n"
   ]
  },
  {
   "cell_type": "markdown",
   "id": "21133a43",
   "metadata": {},
   "source": [
    "## Attributes of a tensor"
   ]
  },
  {
   "cell_type": "code",
   "execution_count": 39,
   "id": "f0b5ce5e",
   "metadata": {},
   "outputs": [
    {
     "name": "stdout",
     "output_type": "stream",
     "text": [
      "tensor([[0.7985, 0.3446, 0.4728, 0.5019],\n",
      "        [0.4859, 0.5316, 0.2132, 0.3392],\n",
      "        [0.7846, 0.5418, 0.6688, 0.3569]])\n",
      "torch.Size([3, 4])\n",
      "torch.float32\n",
      "cpu\n"
     ]
    }
   ],
   "source": [
    "new_tensor = torch.rand(3,4)\n",
    "print(new_tensor)\n",
    "print(new_tensor.shape)\n",
    "print(new_tensor.dtype)\n",
    "print(new_tensor.device)"
   ]
  },
  {
   "cell_type": "markdown",
   "id": "095bc6e3",
   "metadata": {},
   "source": [
    "## Operations on tensors"
   ]
  },
  {
   "cell_type": "code",
   "execution_count": null,
   "id": "1aea5073",
   "metadata": {},
   "outputs": [],
   "source": []
  }
 ],
 "metadata": {
  "kernelspec": {
   "display_name": "Python 3 (ipykernel)",
   "language": "python",
   "name": "python3"
  },
  "language_info": {
   "codemirror_mode": {
    "name": "ipython",
    "version": 3
   },
   "file_extension": ".py",
   "mimetype": "text/x-python",
   "name": "python",
   "nbconvert_exporter": "python",
   "pygments_lexer": "ipython3",
   "version": "3.9.7"
  }
 },
 "nbformat": 4,
 "nbformat_minor": 5
}
